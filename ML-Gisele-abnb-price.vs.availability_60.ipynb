{
 "cells": [
  {
   "cell_type": "code",
   "execution_count": 49,
   "id": "c121e134",
   "metadata": {},
   "outputs": [],
   "source": [
    "%matplotlib inline\n",
    "\n",
    "# import dependencies\n",
    "import pandas as pd\n",
    "import numpy as np\n",
    "import matplotlib.pyplot as plt\n",
    "import pandas as pd\n",
    "import hvplot.pandas\n",
    "from pathlib import Path\n",
    "import plotly.express as px\n",
    "from sklearn.linear_model import LinearRegression\n",
    "from sklearn.datasets import make_blobs"
   ]
  },
  {
   "cell_type": "code",
   "execution_count": 3,
   "id": "9152df36",
   "metadata": {},
   "outputs": [
    {
     "data": {
      "text/html": [
       "<div>\n",
       "<style scoped>\n",
       "    .dataframe tbody tr th:only-of-type {\n",
       "        vertical-align: middle;\n",
       "    }\n",
       "\n",
       "    .dataframe tbody tr th {\n",
       "        vertical-align: top;\n",
       "    }\n",
       "\n",
       "    .dataframe thead th {\n",
       "        text-align: right;\n",
       "    }\n",
       "</style>\n",
       "<table border=\"1\" class=\"dataframe\">\n",
       "  <thead>\n",
       "    <tr style=\"text-align: right;\">\n",
       "      <th></th>\n",
       "      <th>host_since</th>\n",
       "      <th>host_response_time</th>\n",
       "      <th>host_response_rate</th>\n",
       "      <th>host_is_superhost</th>\n",
       "      <th>host_listings_count</th>\n",
       "      <th>host_total_listings_count</th>\n",
       "      <th>host_identity_verified</th>\n",
       "      <th>neighbourhood_cleansed</th>\n",
       "      <th>property_type</th>\n",
       "      <th>room_type</th>\n",
       "      <th>...</th>\n",
       "      <th>license</th>\n",
       "      <th>instant_bookable</th>\n",
       "      <th>calculated_host_listings_count</th>\n",
       "      <th>calculated_host_listings_count_entire_homes</th>\n",
       "      <th>calculated_host_listings_count_private_rooms</th>\n",
       "      <th>calculated_host_listings_count_shared_rooms</th>\n",
       "      <th>reviews_per_month</th>\n",
       "      <th>host_days_active</th>\n",
       "      <th>time_since_first_review</th>\n",
       "      <th>time_since_last_review</th>\n",
       "    </tr>\n",
       "    <tr>\n",
       "      <th>id</th>\n",
       "      <th></th>\n",
       "      <th></th>\n",
       "      <th></th>\n",
       "      <th></th>\n",
       "      <th></th>\n",
       "      <th></th>\n",
       "      <th></th>\n",
       "      <th></th>\n",
       "      <th></th>\n",
       "      <th></th>\n",
       "      <th></th>\n",
       "      <th></th>\n",
       "      <th></th>\n",
       "      <th></th>\n",
       "      <th></th>\n",
       "      <th></th>\n",
       "      <th></th>\n",
       "      <th></th>\n",
       "      <th></th>\n",
       "      <th></th>\n",
       "      <th></th>\n",
       "    </tr>\n",
       "  </thead>\n",
       "  <tbody>\n",
       "    <tr>\n",
       "      <th>958</th>\n",
       "      <td>7/31/2008</td>\n",
       "      <td>within a few hours</td>\n",
       "      <td>100%</td>\n",
       "      <td>1</td>\n",
       "      <td>1</td>\n",
       "      <td>1</td>\n",
       "      <td>1</td>\n",
       "      <td>Western Addition</td>\n",
       "      <td>Apartment</td>\n",
       "      <td>Entire home/apt</td>\n",
       "      <td>...</td>\n",
       "      <td>STR-0001256</td>\n",
       "      <td>1</td>\n",
       "      <td>1</td>\n",
       "      <td>1</td>\n",
       "      <td>0</td>\n",
       "      <td>0</td>\n",
       "      <td>1.60</td>\n",
       "      <td>3958</td>\n",
       "      <td>4+ years</td>\n",
       "      <td>17.0</td>\n",
       "    </tr>\n",
       "    <tr>\n",
       "      <th>7918</th>\n",
       "      <td>6/17/2009</td>\n",
       "      <td>within a few hours</td>\n",
       "      <td>100%</td>\n",
       "      <td>0</td>\n",
       "      <td>10</td>\n",
       "      <td>10</td>\n",
       "      <td>1</td>\n",
       "      <td>Haight Ashbury</td>\n",
       "      <td>Apartment</td>\n",
       "      <td>Private room</td>\n",
       "      <td>...</td>\n",
       "      <td>NaN</td>\n",
       "      <td>0</td>\n",
       "      <td>9</td>\n",
       "      <td>0</td>\n",
       "      <td>9</td>\n",
       "      <td>0</td>\n",
       "      <td>0.14</td>\n",
       "      <td>3637</td>\n",
       "      <td>4+ years</td>\n",
       "      <td>923.0</td>\n",
       "    </tr>\n",
       "    <tr>\n",
       "      <th>8142</th>\n",
       "      <td>6/17/2009</td>\n",
       "      <td>within a few hours</td>\n",
       "      <td>100%</td>\n",
       "      <td>0</td>\n",
       "      <td>10</td>\n",
       "      <td>10</td>\n",
       "      <td>1</td>\n",
       "      <td>Haight Ashbury</td>\n",
       "      <td>Apartment</td>\n",
       "      <td>Private room</td>\n",
       "      <td>...</td>\n",
       "      <td>NaN</td>\n",
       "      <td>0</td>\n",
       "      <td>9</td>\n",
       "      <td>0</td>\n",
       "      <td>9</td>\n",
       "      <td>0</td>\n",
       "      <td>0.14</td>\n",
       "      <td>3637</td>\n",
       "      <td>4+ years</td>\n",
       "      <td>263.0</td>\n",
       "    </tr>\n",
       "    <tr>\n",
       "      <th>8339</th>\n",
       "      <td>7/2/2009</td>\n",
       "      <td>within an hour</td>\n",
       "      <td>100%</td>\n",
       "      <td>0</td>\n",
       "      <td>2</td>\n",
       "      <td>2</td>\n",
       "      <td>1</td>\n",
       "      <td>Western Addition</td>\n",
       "      <td>House</td>\n",
       "      <td>Entire home/apt</td>\n",
       "      <td>...</td>\n",
       "      <td>STR-0000264</td>\n",
       "      <td>0</td>\n",
       "      <td>2</td>\n",
       "      <td>2</td>\n",
       "      <td>0</td>\n",
       "      <td>0</td>\n",
       "      <td>0.23</td>\n",
       "      <td>3622</td>\n",
       "      <td>4+ years</td>\n",
       "      <td>295.0</td>\n",
       "    </tr>\n",
       "    <tr>\n",
       "      <th>8739</th>\n",
       "      <td>1/27/2009</td>\n",
       "      <td>within an hour</td>\n",
       "      <td>100%</td>\n",
       "      <td>1</td>\n",
       "      <td>2</td>\n",
       "      <td>2</td>\n",
       "      <td>0</td>\n",
       "      <td>Mission</td>\n",
       "      <td>Other</td>\n",
       "      <td>Private room</td>\n",
       "      <td>...</td>\n",
       "      <td>STR-0000028</td>\n",
       "      <td>1</td>\n",
       "      <td>2</td>\n",
       "      <td>0</td>\n",
       "      <td>2</td>\n",
       "      <td>0</td>\n",
       "      <td>5.61</td>\n",
       "      <td>3778</td>\n",
       "      <td>4+ years</td>\n",
       "      <td>12.0</td>\n",
       "    </tr>\n",
       "  </tbody>\n",
       "</table>\n",
       "<p>5 rows × 42 columns</p>\n",
       "</div>"
      ],
      "text/plain": [
       "     host_since  host_response_time host_response_rate  host_is_superhost  \\\n",
       "id                                                                          \n",
       "958   7/31/2008  within a few hours               100%                  1   \n",
       "7918  6/17/2009  within a few hours               100%                  0   \n",
       "8142  6/17/2009  within a few hours               100%                  0   \n",
       "8339   7/2/2009      within an hour               100%                  0   \n",
       "8739  1/27/2009      within an hour               100%                  1   \n",
       "\n",
       "      host_listings_count  host_total_listings_count  host_identity_verified  \\\n",
       "id                                                                             \n",
       "958                     1                          1                       1   \n",
       "7918                   10                         10                       1   \n",
       "8142                   10                         10                       1   \n",
       "8339                    2                          2                       1   \n",
       "8739                    2                          2                       0   \n",
       "\n",
       "     neighbourhood_cleansed property_type        room_type  ...      license  \\\n",
       "id                                                          ...                \n",
       "958        Western Addition     Apartment  Entire home/apt  ...  STR-0001256   \n",
       "7918         Haight Ashbury     Apartment     Private room  ...          NaN   \n",
       "8142         Haight Ashbury     Apartment     Private room  ...          NaN   \n",
       "8339       Western Addition         House  Entire home/apt  ...  STR-0000264   \n",
       "8739                Mission         Other     Private room  ...  STR-0000028   \n",
       "\n",
       "     instant_bookable  calculated_host_listings_count  \\\n",
       "id                                                      \n",
       "958                 1                               1   \n",
       "7918                0                               9   \n",
       "8142                0                               9   \n",
       "8339                0                               2   \n",
       "8739                1                               2   \n",
       "\n",
       "      calculated_host_listings_count_entire_homes  \\\n",
       "id                                                  \n",
       "958                                             1   \n",
       "7918                                            0   \n",
       "8142                                            0   \n",
       "8339                                            2   \n",
       "8739                                            0   \n",
       "\n",
       "      calculated_host_listings_count_private_rooms  \\\n",
       "id                                                   \n",
       "958                                              0   \n",
       "7918                                             9   \n",
       "8142                                             9   \n",
       "8339                                             0   \n",
       "8739                                             2   \n",
       "\n",
       "      calculated_host_listings_count_shared_rooms  reviews_per_month  \\\n",
       "id                                                                     \n",
       "958                                             0               1.60   \n",
       "7918                                            0               0.14   \n",
       "8142                                            0               0.14   \n",
       "8339                                            0               0.23   \n",
       "8739                                            0               5.61   \n",
       "\n",
       "     host_days_active  time_since_first_review  time_since_last_review  \n",
       "id                                                                      \n",
       "958              3958                 4+ years                    17.0  \n",
       "7918             3637                 4+ years                   923.0  \n",
       "8142             3637                 4+ years                   263.0  \n",
       "8339             3622                 4+ years                   295.0  \n",
       "8739             3778                 4+ years                    12.0  \n",
       "\n",
       "[5 rows x 42 columns]"
      ]
     },
     "execution_count": 3,
     "metadata": {},
     "output_type": "execute_result"
    }
   ],
   "source": [
    "# Load the dataset.\n",
    "file_path = \"./resources/listings_cleaned.csv\"\n",
    "ab21_df = pd.read_csv(file_path,index_col=0)\n",
    "ab21_df.head(5)"
   ]
  },
  {
   "cell_type": "code",
   "execution_count": 5,
   "id": "360f9ab6",
   "metadata": {},
   "outputs": [
    {
     "data": {
      "text/plain": [
       "['host_since',\n",
       " 'host_response_time',\n",
       " 'host_response_rate',\n",
       " 'host_is_superhost',\n",
       " 'host_listings_count',\n",
       " 'host_total_listings_count',\n",
       " 'host_identity_verified',\n",
       " 'neighbourhood_cleansed',\n",
       " 'property_type',\n",
       " 'room_type',\n",
       " 'accommodates',\n",
       " 'bathrooms',\n",
       " 'bedrooms',\n",
       " 'beds',\n",
       " 'price',\n",
       " 'minimum_nights',\n",
       " 'maximum_nights',\n",
       " 'calendar_updated',\n",
       " 'availability_30',\n",
       " 'availability_60',\n",
       " 'availability_90',\n",
       " 'availability_365',\n",
       " 'number_of_reviews',\n",
       " 'number_of_reviews_ltm',\n",
       " 'first_review',\n",
       " 'review_scores_rating',\n",
       " 'review_scores_accuracy',\n",
       " 'review_scores_cleanliness',\n",
       " 'review_scores_checkin',\n",
       " 'review_scores_communication',\n",
       " 'review_scores_location',\n",
       " 'review_scores_value',\n",
       " 'license',\n",
       " 'instant_bookable',\n",
       " 'calculated_host_listings_count',\n",
       " 'calculated_host_listings_count_entire_homes',\n",
       " 'calculated_host_listings_count_private_rooms',\n",
       " 'calculated_host_listings_count_shared_rooms',\n",
       " 'reviews_per_month',\n",
       " 'host_days_active',\n",
       " 'time_since_first_review',\n",
       " 'time_since_last_review']"
      ]
     },
     "execution_count": 5,
     "metadata": {},
     "output_type": "execute_result"
    }
   ],
   "source": [
    "#get list of column name\n",
    "list(ab21_df.columns.values)"
   ]
  },
  {
   "cell_type": "code",
   "execution_count": 121,
   "id": "f45f66c3",
   "metadata": {},
   "outputs": [
    {
     "data": {
      "text/plain": [
       "host_since                                       object\n",
       "host_response_time                               object\n",
       "host_response_rate                               object\n",
       "host_is_superhost                                 int64\n",
       "host_listings_count                               int64\n",
       "host_total_listings_count                         int64\n",
       "host_identity_verified                            int64\n",
       "neighbourhood_cleansed                           object\n",
       "property_type                                    object\n",
       "room_type                                        object\n",
       "accommodates                                      int64\n",
       "bathrooms                                        object\n",
       "bedrooms                                        float64\n",
       "beds                                            float64\n",
       "price                                             int64\n",
       "minimum_nights                                    int64\n",
       "maximum_nights                                    int64\n",
       "calendar_updated                                 object\n",
       "availability_30                                   int64\n",
       "availability_60                                   int64\n",
       "availability_90                                   int64\n",
       "availability_365                                  int64\n",
       "number_of_reviews                                 int64\n",
       "number_of_reviews_ltm                             int64\n",
       "first_review                                     object\n",
       "review_scores_rating                            float64\n",
       "review_scores_accuracy                          float64\n",
       "review_scores_cleanliness                       float64\n",
       "review_scores_checkin                           float64\n",
       "review_scores_communication                     float64\n",
       "review_scores_location                          float64\n",
       "review_scores_value                             float64\n",
       "license                                          object\n",
       "instant_bookable                                  int64\n",
       "calculated_host_listings_count                    int64\n",
       "calculated_host_listings_count_entire_homes       int64\n",
       "calculated_host_listings_count_private_rooms      int64\n",
       "calculated_host_listings_count_shared_rooms       int64\n",
       "reviews_per_month                               float64\n",
       "host_days_active                                  int64\n",
       "time_since_first_review                          object\n",
       "time_since_last_review                          float64\n",
       "dtype: object"
      ]
     },
     "execution_count": 121,
     "metadata": {},
     "output_type": "execute_result"
    }
   ],
   "source": [
    "ab21_df.dtypes"
   ]
  },
  {
   "cell_type": "code",
   "execution_count": 146,
   "id": "b01c5e9e",
   "metadata": {},
   "outputs": [
    {
     "data": {
      "image/png": "[encoded data removed]",
      "text/plain": [
       "<Figure size 432x288 with 1 Axes>"
      ]
     },
     "metadata": {
      "needs_background": "light"
     },
     "output_type": "display_data"
    }
   ],
   "source": [
    "# Visually inspect the relationship between price and availability_60\n",
    "plt.scatter(ab21_df.availability_60, ab21_df.price )\n",
    "plt.xlabel('availability_60')\n",
    "plt.ylabel('price')\n",
    "plt.show()"
   ]
  },
  {
   "cell_type": "code",
   "execution_count": 147,
   "id": "f552d7e7",
   "metadata": {},
   "outputs": [],
   "source": [
    "# Separate the feature X from the target y:\n",
    "y = ab21_df[\"price\"]\n",
    "X = ab21_df.drop(columns=\"price\")"
   ]
  },
  {
   "cell_type": "code",
   "execution_count": 148,
   "id": "0e5904e4",
   "metadata": {},
   "outputs": [],
   "source": [
    "# formats the data to meet the requirements of the Scikit-learn library:\n",
    "X = ab21_df.availability_60.values.reshape(-1, 1)"
   ]
  },
  {
   "cell_type": "code",
   "execution_count": 149,
   "id": "d6a5ac42",
   "metadata": {},
   "outputs": [
    {
     "data": {
      "text/plain": [
       "array([[ 3],\n",
       "       [60],\n",
       "       [41],\n",
       "       [60],\n",
       "       [38]], dtype=int64)"
      ]
     },
     "execution_count": 149,
     "metadata": {},
     "output_type": "execute_result"
    }
   ],
   "source": [
    "# Examine the first five entries in X, the output is a two-dimensional NumPy array:\n",
    "X[:5]"
   ]
  },
  {
   "cell_type": "code",
   "execution_count": 150,
   "id": "c0a76438",
   "metadata": {},
   "outputs": [
    {
     "data": {
      "text/plain": [
       "(12616, 1)"
      ]
     },
     "execution_count": 150,
     "metadata": {},
     "output_type": "execute_result"
    }
   ],
   "source": [
    "# Examine the shape of X\n",
    "X.shape"
   ]
  },
  {
   "cell_type": "code",
   "execution_count": 151,
   "id": "23e875db",
   "metadata": {},
   "outputs": [],
   "source": [
    "# Assign the target variable, or the price column, to y\n",
    "y = ab21_df.price"
   ]
  },
  {
   "cell_type": "code",
   "execution_count": 152,
   "id": "ac596a8e",
   "metadata": {},
   "outputs": [],
   "source": [
    "# Create an instance of the linear regression model.\n",
    "model = LinearRegression()"
   ]
  },
  {
   "cell_type": "code",
   "execution_count": 153,
   "id": "bb2c68b2",
   "metadata": {},
   "outputs": [
    {
     "data": {
      "text/plain": [
       "LinearRegression()"
      ]
     },
     "execution_count": 153,
     "metadata": {},
     "output_type": "execute_result"
    }
   ],
   "source": [
    "#After a model is instantiated, it will analyze the data and attempt to learn patterns in the data. \n",
    "model.fit(X, y)"
   ]
  },
  {
   "cell_type": "code",
   "execution_count": 154,
   "id": "fee2751f",
   "metadata": {},
   "outputs": [
    {
     "name": "stdout",
     "output_type": "stream",
     "text": [
      "(12616,)\n"
     ]
    }
   ],
   "source": [
    "#Generate prediction\n",
    "y_pred = model.predict(X)\n",
    "print(y_pred.shape)"
   ]
  },
  {
   "cell_type": "code",
   "execution_count": 155,
   "id": "3276a3ac",
   "metadata": {},
   "outputs": [
    {
     "data": {
      "image/png": "[encoded data removed]",
      "text/plain": [
       "<Figure size 432x288 with 1 Axes>"
      ]
     },
     "metadata": {
      "needs_background": "light"
     },
     "output_type": "display_data"
    }
   ],
   "source": [
    "# plot the predictions as a red line against the data points:\n",
    "plt.scatter(X, y)\n",
    "plt.plot(X, y_pred, color='red')\n",
    "plt.show()"
   ]
  }
 ],
 "metadata": {
  "kernelspec": {
   "display_name": "mlenv",
   "language": "python",
   "name": "mlenv"
  },
  "language_info": {
   "codemirror_mode": {
    "name": "ipython",
    "version": 3
   },
   "file_extension": ".py",
   "mimetype": "text/x-python",
   "name": "python",
   "nbconvert_exporter": "python",
   "pygments_lexer": "ipython3",
   "version": "3.8.8"
  }
 },
 "nbformat": 4,
 "nbformat_minor": 5
}
